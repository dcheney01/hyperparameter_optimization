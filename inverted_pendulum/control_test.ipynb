{
 "cells": [
  {
   "cell_type": "code",
   "execution_count": 1,
   "metadata": {},
   "outputs": [],
   "source": [
    "import json\n",
    "import glob\n",
    "\n",
    "import sys, os, shutil\n",
    "sys.path.append('/home/daniel/research/catkin_ws/src/')\n",
    "from ip_nempc import ip_nempc"
   ]
  },
  {
   "cell_type": "code",
   "execution_count": 2,
   "metadata": {},
   "outputs": [
    {
     "name": "stdout",
     "output_type": "stream",
     "text": [
      "\n"
     ]
    },
    {
     "name": "stderr",
     "output_type": "stream",
     "text": [
      "100%|██████████| 600/600 [00:13<00:00, 43.38it/s]\n"
     ]
    },
    {
     "name": "stdout",
     "output_type": "stream",
     "text": [
      "Ran control successfully for trial: train_e49cea1a. IAE=892.4431200169527\n",
      "\n"
     ]
    },
    {
     "name": "stderr",
     "output_type": "stream",
     "text": [
      "100%|██████████| 600/600 [00:13<00:00, 45.00it/s]"
     ]
    },
    {
     "name": "stdout",
     "output_type": "stream",
     "text": [
      "Ran control successfully for trial: train_21f01584. IAE=884.6673453786375\n",
      "\n",
      "Best Trial: train_21f01584, with IAE=884.6673453786375\n",
      "Total Trials ran: 2\n"
     ]
    },
    {
     "name": "stderr",
     "output_type": "stream",
     "text": [
      "\n"
     ]
    }
   ],
   "source": [
    "iae_metrics = []\n",
    "trial_names = []\n",
    "INPUT_DIR = '/home/daniel/research/catkin_ws/src/hyperparam_optimization/inverted_pendulum/run_logs/fnn_optimization'\n",
    "\n",
    "for trial in os.listdir(INPUT_DIR):\n",
    "    if os.path.isdir(INPUT_DIR + '/' + trial):\n",
    "        trial_dir = INPUT_DIR + '/' + trial\n",
    "        trial_name = trial[:14]\n",
    "\n",
    "        try:\n",
    "            checkpoint_path = glob.glob(trial_dir + '/lightning_logs/version_0/checkpoints/*.ckpt')[0] # get the checkpoint\n",
    "\n",
    "            with open(trial_dir + '/params.json', 'r') as f:\n",
    "                config = json.load(f) # get the config file\n",
    "\n",
    "            print()\n",
    "            iae_score, control_successful = ip_nempc(checkpoint_path=checkpoint_path, config=config) # run control\n",
    "\n",
    "            iae_metrics.append(iae_score)\n",
    "            trial_names.append(trial_name)\n",
    "            \n",
    "            if control_successful:\n",
    "                print(f'Ran control successfully for trial: {trial_name}. IAE={iae_score}')\n",
    "            else:\n",
    "                print(f'Control failed for trial: {trial_name}. IAE={iae_score}')\n",
    "                raise AssertionError\n",
    "        except:\n",
    "            shutil.rmtree(trial_dir) # delete the trial directory since there is no checkpoint to use\n",
    "            continue # no checkpoint, wasn't a good run\n",
    "\n",
    "min_index = iae_metrics.index(min(iae_metrics))\n",
    "print()\n",
    "print(f'Best Trial: {trial_names[min_index]}, with IAE={iae_metrics[min_index]}')\n",
    "print(f'Total Trials ran: {len(iae_metrics)}')"
   ]
  }
 ],
 "metadata": {
  "kernelspec": {
   "display_name": "Python 3",
   "language": "python",
   "name": "python3"
  },
  "language_info": {
   "codemirror_mode": {
    "name": "ipython",
    "version": 3
   },
   "file_extension": ".py",
   "mimetype": "text/x-python",
   "name": "python",
   "nbconvert_exporter": "python",
   "pygments_lexer": "ipython3",
   "version": "3.8.10"
  },
  "orig_nbformat": 4
 },
 "nbformat": 4,
 "nbformat_minor": 2
}
