{
 "cells": [
  {
   "cell_type": "code",
   "execution_count": 1,
   "metadata": {},
   "outputs": [],
   "source": [
    "import json\n",
    "import glob\n",
    "import sys, os, shutil\n",
    "import numpy as np\n",
    "from tqdm.auto import tqdm \n",
    "\n",
    "sys.path.append('/home/daniel/research/catkin_ws/src/')\n",
    "from grub_nempc import grub_nempc"
   ]
  },
  {
   "cell_type": "code",
   "execution_count": null,
   "metadata": {},
   "outputs": [],
   "source": [
    "iae_metrics = []\n",
    "trial_names = []\n",
    "INPUT_DIR = '/home/daniel/research/catkin_ws/src/hyperparam_optimization/bellows_grub/run_logs/'\n",
    "\n",
    "for run in os.listdir(INPUT_DIR):\n",
    "    for trial in os.listdir(INPUT_DIR+run):\n",
    "        if os.path.isdir(INPUT_DIR + run + '/' + trial):\n",
    "            trial_dir = INPUT_DIR + run + '/' + trial\n",
    "            trial_name = trial[:14]\n",
    "\n",
    "            try:\n",
    "                checkpoint_path = glob.glob(trial_dir + '/lightning_logs/version_0/checkpoints/*.ckpt')[0] # get the checkpoint\n",
    "\n",
    "                with open(trial_dir + '/params.json', 'r') as f:\n",
    "                    config = json.load(f) # get the config file\n",
    "\n",
    "                print()\n",
    "\n",
    "                # Try the controller with the model============\n",
    "                test_runs = 8\n",
    "                control_results = np.zeros([test_runs,])\n",
    "                iae_results = np.zeros([test_runs,])\n",
    "\n",
    "                # Initial Conditions\n",
    "                x0 = np.array([200,200,200,200,0,0,0.1,0.1]).reshape(8,1) # p, qd, q\n",
    "                u0 = 200*np.ones([4, 1])\n",
    "                p_goal = np.array([[0], [0], [0], [0]])\n",
    "                qd_goal = np.zeros((2,1))\n",
    "                ugoal = np.zeros([4, 1]) # right now in the cost function this is weighted at 0\n",
    "\n",
    "                for test in tqdm(range(test_runs)):\n",
    "                    q_goal = np.random.uniform(low=-np.pi/2, high=np.pi/2, size=(2, 1)) # random joint angle goal\n",
    "                    xgoal = np.vstack([p_goal,qd_goal,q_goal])\n",
    "\n",
    "                    x, iae_score, control_successful = grub_nempc(checkpoint_path, config, x0, u0, xgoal, ugoal, visualize=False, plot=False)\n",
    "                    control_results[test] = control_successful\n",
    "                    iae_results[test] = iae_score\n",
    "                    # print(f'u=({q_goal[0]},{x[6]}) and v=({q_goal[1]},{x[7]})')\n",
    "                # Try the controller with the model ==============================\n",
    "                \n",
    "                iae_metrics.append(np.mean(iae_results))\n",
    "                trial_names.append(trial_name+'/'+run)\n",
    "                print(f'Control Success Rate={np.mean(control_results)}')\n",
    "                if np.mean(control_results) > 0.5:\n",
    "                    print(f'Ran control successfully for trial: {trial_name}. Control Results: {np.mean(control_results)}, Average IAE={np.mean(iae_results)}')\n",
    "                else:\n",
    "                    print(f'Control failed for trial: {trial_name}. Control Results: {np.mean(control_results)}, Average IAE={np.mean(iae_results)}')\n",
    "                    shutil.rmtree(trial_dir) # delete the trial directory since there is no checkpoint to use\n",
    "\n",
    "            except Exception as e:\n",
    "                print(f'For trial {trial_name} got {e}')\n",
    "                continue # no checkpoint, wasn't a good run\n",
    "\n",
    "min_index = iae_metrics.index(min(iae_metrics))\n",
    "print()\n",
    "print(f'Best Trial: {trial_names[min_index]}, with IAE={iae_metrics[min_index]}')\n",
    "print(f'Total Trials ran: {len(iae_metrics)}')"
   ]
  }
 ],
 "metadata": {
  "kernelspec": {
   "display_name": "Python 3",
   "language": "python",
   "name": "python3"
  },
  "language_info": {
   "codemirror_mode": {
    "name": "ipython",
    "version": 3
   },
   "file_extension": ".py",
   "mimetype": "text/x-python",
   "name": "python",
   "nbconvert_exporter": "python",
   "pygments_lexer": "ipython3",
   "version": "3.8.10"
  },
  "orig_nbformat": 4
 },
 "nbformat": 4,
 "nbformat_minor": 2
}
