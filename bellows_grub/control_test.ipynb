{
 "cells": [
  {
   "cell_type": "code",
   "execution_count": 1,
   "metadata": {},
   "outputs": [],
   "source": [
    "import json\n",
    "import glob\n",
    "import sys, os, shutil\n",
    "import numpy as np\n",
    "from tqdm.auto import tqdm \n",
    "\n",
    "sys.path.append('/home/daniel/research/catkin_ws/src/')\n",
    "from grub_nempc import grub_nempc"
   ]
  },
  {
   "cell_type": "code",
   "execution_count": null,
   "metadata": {},
   "outputs": [],
   "source": [
    "iae_metrics = []\n",
    "trial_names = []\n",
    "INPUT_DIR = '/home/daniel/research/catkin_ws/src/hyperparam_optimization/bellows_grub/run_logs/'\n",
    "\n",
    "# run_logs = os.listdir(INPUT_DIR)\n",
    "run_logs = ['fnn_testrun']\n",
    "\n",
    "for run in run_logs:\n",
    "    for trial in os.listdir(INPUT_DIR+run):\n",
    "        if os.path.isdir(INPUT_DIR + run + '/' + trial):\n",
    "            trial_dir = INPUT_DIR + run + '/' + trial\n",
    "            trial_name = trial[:14]\n",
    "\n",
    "            try:\n",
    "                checkpoint_path = glob.glob(trial_dir + '/lightning_logs/version_0/checkpoints/*.ckpt')[0] # get the checkpoint\n",
    "\n",
    "                with open(trial_dir + '/params.json', 'r') as f:\n",
    "                    config = json.load(f) # get the config file\n",
    "\n",
    "                print(f'\\n\\nRunning Control for Trial: {trial_name}')\n",
    "\n",
    "                # Try the controller with the model============\n",
    "                test_runs = 10\n",
    "                control_results = np.zeros([test_runs,])\n",
    "                iae_results = np.zeros([test_runs,])\n",
    "\n",
    "                # Initial Conditions\n",
    "                x0 = np.array([200,200,200,200,0,0,0.1,0.1]).reshape(8,1) # p, qd, q\n",
    "                u0 = 200*np.ones([4, 1])\n",
    "                p_goal = np.array([[0], [0], [0], [0]])\n",
    "                qd_goal = np.zeros((2,1))\n",
    "                ugoal = np.zeros([4, 1]) # right now in the cost function this is weighted at 0\n",
    "\n",
    "                for test in tqdm(range(test_runs)):\n",
    "                    q_goal = np.random.uniform(low=-np.pi/2, high=np.pi/2, size=(2, 1)) # random joint angle goal\n",
    "                    xgoal = np.vstack([p_goal,qd_goal,q_goal])\n",
    "\n",
    "                    x, iae_score, control_successful = grub_nempc(checkpoint_path, config, x0, u0, xgoal, ugoal, visualize=False, plot=False)\n",
    "                    control_results[test] = control_successful\n",
    "                    iae_results[test] = iae_score\n",
    "                    # print(f'u=({q_goal[0]},{x[6]}) and v=({q_goal[1]},{x[7]})')\n",
    "                # Try the controller with the model ==============================\n",
    "                \n",
    "                iae_metrics.append(np.mean(iae_results))\n",
    "                trial_names.append(trial_name+'/'+run)\n",
    "                if np.mean(control_results) >= 0.5:\n",
    "                    print(f'Ran control successfully for trial: {trial_name}. Control Results: {np.mean(control_results)}, Average IAE={np.mean(iae_results)}')\n",
    "                else:\n",
    "                    print(f'Control failed for trial: {trial_name}. Control Results: {np.mean(control_results)}, Average IAE={np.mean(iae_results)}')\n",
    "                    shutil.rmtree(trial_dir) # delete the trial directory since there is no checkpoint to use\n",
    "\n",
    "\n",
    "            except Exception as e:\n",
    "                print(f'For trial {trial_name} got {e}')\n",
    "                shutil.rmtree(trial_dir)\n",
    "                continue # no checkpoint, wasn't a good run\n",
    "\n",
    "min_index = iae_metrics.index(min(iae_metrics))\n",
    "print()\n",
    "print(f'Best Trial: {trial_names[min_index]}, with IAE={iae_metrics[min_index]}')\n",
    "print(f'Total Trials ran: {len(iae_metrics)}')"
   ]
  },
  {
   "cell_type": "code",
   "execution_count": 3,
   "metadata": {},
   "outputs": [
    {
     "name": "stdout",
     "output_type": "stream",
     "text": [
      "\n",
      "\n",
      "Running Control for Trial: train_13c2219f\n"
     ]
    },
    {
     "data": {
      "application/vnd.jupyter.widget-view+json": {
       "model_id": "ce6e08e0b59e4a6ab0c0de1c244cb3b6",
       "version_major": 2,
       "version_minor": 0
      },
      "text/plain": [
       "  0%|          | 0/50 [00:00<?, ?it/s]"
      ]
     },
     "metadata": {},
     "output_type": "display_data"
    },
    {
     "name": "stdout",
     "output_type": "stream",
     "text": [
      "Control failed for trial: train_13c2219f. Control Results: 0.14, Average IAE=240.57370967271578\n",
      "\n",
      "\n",
      "Running Control for Trial: train_9b194ef8\n"
     ]
    },
    {
     "data": {
      "application/vnd.jupyter.widget-view+json": {
       "model_id": "8620a57feffc406ca3ffc66c65f0c945",
       "version_major": 2,
       "version_minor": 0
      },
      "text/plain": [
       "  0%|          | 0/50 [00:00<?, ?it/s]"
      ]
     },
     "metadata": {},
     "output_type": "display_data"
    },
    {
     "name": "stdout",
     "output_type": "stream",
     "text": [
      "Control failed for trial: train_9b194ef8. Control Results: 0.28, Average IAE=220.38932284517716\n",
      "\n",
      "\n",
      "Running Control for Trial: train_aea2950b\n"
     ]
    },
    {
     "data": {
      "application/vnd.jupyter.widget-view+json": {
       "model_id": "54ba5958a9e24a0f9bdadaa3f84961b5",
       "version_major": 2,
       "version_minor": 0
      },
      "text/plain": [
       "  0%|          | 0/50 [00:00<?, ?it/s]"
      ]
     },
     "metadata": {},
     "output_type": "display_data"
    },
    {
     "name": "stdout",
     "output_type": "stream",
     "text": [
      "Control failed for trial: train_aea2950b. Control Results: 0.28, Average IAE=210.59992384944223\n",
      "\n",
      "\n",
      "Running Control for Trial: train_dc7f8586\n"
     ]
    },
    {
     "data": {
      "application/vnd.jupyter.widget-view+json": {
       "model_id": "260b780525d94176ad2c50f262a3299f",
       "version_major": 2,
       "version_minor": 0
      },
      "text/plain": [
       "  0%|          | 0/50 [00:00<?, ?it/s]"
      ]
     },
     "metadata": {},
     "output_type": "display_data"
    },
    {
     "name": "stdout",
     "output_type": "stream",
     "text": [
      "Control failed for trial: train_dc7f8586. Control Results: 0.1, Average IAE=226.31243705489354\n",
      "\n",
      "\n",
      "Running Control for Trial: train_28b48815\n"
     ]
    },
    {
     "data": {
      "application/vnd.jupyter.widget-view+json": {
       "model_id": "6459aa6e244f47a1a70cd26ce8ea9746",
       "version_major": 2,
       "version_minor": 0
      },
      "text/plain": [
       "  0%|          | 0/50 [00:00<?, ?it/s]"
      ]
     },
     "metadata": {},
     "output_type": "display_data"
    },
    {
     "name": "stdout",
     "output_type": "stream",
     "text": [
      "Control failed for trial: train_28b48815. Control Results: 0.3, Average IAE=202.57751802236962\n",
      "\n",
      "\n",
      "Running Control for Trial: train_2e8e8eef\n"
     ]
    },
    {
     "data": {
      "application/vnd.jupyter.widget-view+json": {
       "model_id": "257599492ade43b99d552204ffeb723b",
       "version_major": 2,
       "version_minor": 0
      },
      "text/plain": [
       "  0%|          | 0/50 [00:00<?, ?it/s]"
      ]
     },
     "metadata": {},
     "output_type": "display_data"
    },
    {
     "name": "stdout",
     "output_type": "stream",
     "text": [
      "Control failed for trial: train_2e8e8eef. Control Results: 0.32, Average IAE=258.4336225342118\n",
      "\n",
      "\n",
      "Running Control for Trial: train_a8f9fb31\n"
     ]
    },
    {
     "data": {
      "application/vnd.jupyter.widget-view+json": {
       "model_id": "ea7bda07e4bc4bea85facdf86ddee7a4",
       "version_major": 2,
       "version_minor": 0
      },
      "text/plain": [
       "  0%|          | 0/50 [00:00<?, ?it/s]"
      ]
     },
     "metadata": {},
     "output_type": "display_data"
    },
    {
     "name": "stdout",
     "output_type": "stream",
     "text": [
      "Control failed for trial: train_a8f9fb31. Control Results: 0.12, Average IAE=237.7775578773718\n",
      "\n",
      "\n",
      "Running Control for Trial: train_e8d1e215\n"
     ]
    },
    {
     "data": {
      "application/vnd.jupyter.widget-view+json": {
       "model_id": "27193f40a4c542939f5341a803a8d1ad",
       "version_major": 2,
       "version_minor": 0
      },
      "text/plain": [
       "  0%|          | 0/50 [00:00<?, ?it/s]"
      ]
     },
     "metadata": {},
     "output_type": "display_data"
    },
    {
     "name": "stdout",
     "output_type": "stream",
     "text": [
      "Control failed for trial: train_e8d1e215. Control Results: 0.1, Average IAE=226.12273268394844\n",
      "\n",
      "\n",
      "Running Control for Trial: train_d923b9e2\n"
     ]
    },
    {
     "data": {
      "application/vnd.jupyter.widget-view+json": {
       "model_id": "19b8f69f067f4788a89fd39100a56a69",
       "version_major": 2,
       "version_minor": 0
      },
      "text/plain": [
       "  0%|          | 0/50 [00:00<?, ?it/s]"
      ]
     },
     "metadata": {},
     "output_type": "display_data"
    },
    {
     "name": "stdout",
     "output_type": "stream",
     "text": [
      "Control failed for trial: train_d923b9e2. Control Results: 0.1, Average IAE=250.21463069716262\n",
      "\n",
      "\n",
      "Running Control for Trial: train_e2268250\n"
     ]
    },
    {
     "data": {
      "application/vnd.jupyter.widget-view+json": {
       "model_id": "ad3679b81ce6498d9f99e4ef02def6e7",
       "version_major": 2,
       "version_minor": 0
      },
      "text/plain": [
       "  0%|          | 0/50 [00:00<?, ?it/s]"
      ]
     },
     "metadata": {},
     "output_type": "display_data"
    },
    {
     "ename": "KeyboardInterrupt",
     "evalue": "",
     "output_type": "error",
     "traceback": [
      "\u001b[0;31m---------------------------------------------------------------------------\u001b[0m",
      "\u001b[0;31mKeyboardInterrupt\u001b[0m                         Traceback (most recent call last)",
      "Cell \u001b[0;32mIn[3], line 38\u001b[0m\n\u001b[1;32m     36\u001b[0m q_goal \u001b[39m=\u001b[39m np\u001b[39m.\u001b[39mrandom\u001b[39m.\u001b[39muniform(low\u001b[39m=\u001b[39m\u001b[39m-\u001b[39mnp\u001b[39m.\u001b[39mpi\u001b[39m/\u001b[39m\u001b[39m2\u001b[39m, high\u001b[39m=\u001b[39mnp\u001b[39m.\u001b[39mpi\u001b[39m/\u001b[39m\u001b[39m2\u001b[39m, size\u001b[39m=\u001b[39m(\u001b[39m2\u001b[39m, \u001b[39m1\u001b[39m)) \u001b[39m# random joint angle goal\u001b[39;00m\n\u001b[1;32m     37\u001b[0m xgoal \u001b[39m=\u001b[39m np\u001b[39m.\u001b[39mvstack([p_goal,qd_goal,q_goal])\n\u001b[0;32m---> 38\u001b[0m x, iae_score, control_successful \u001b[39m=\u001b[39m grub_nempc(checkpoint_path, config, x0, u0, xgoal, ugoal, visualize\u001b[39m=\u001b[39;49m\u001b[39mFalse\u001b[39;49;00m, plot\u001b[39m=\u001b[39;49m\u001b[39mFalse\u001b[39;49;00m)\n\u001b[1;32m     39\u001b[0m control_results[test] \u001b[39m=\u001b[39m control_successful\n\u001b[1;32m     40\u001b[0m iae_results[test] \u001b[39m=\u001b[39m iae_score\n",
      "File \u001b[0;32m~/research/catkin_ws/src/hyperparam_optimization/bellows_grub/grub_nempc.py:113\u001b[0m, in \u001b[0;36mgrub_nempc\u001b[0;34m(checkpoint_path, config, x0, u0, xgoal, ugoal, visualize, plot, makeGif)\u001b[0m\n\u001b[1;32m    110\u001b[0m \u001b[39mfor\u001b[39;00m i \u001b[39min\u001b[39;00m \u001b[39mrange\u001b[39m(\u001b[39m0\u001b[39m, sim_length): \n\u001b[1;32m    112\u001b[0m     start \u001b[39m=\u001b[39m time\u001b[39m.\u001b[39mtime()\n\u001b[0;32m--> 113\u001b[0m     u \u001b[39m=\u001b[39m controller\u001b[39m.\u001b[39;49msolve_for_next_u(x, \n\u001b[1;32m    114\u001b[0m                                     xgoal, \n\u001b[1;32m    115\u001b[0m                                     ulast\u001b[39m=\u001b[39;49mu\u001b[39m.\u001b[39;49mflatten(), \n\u001b[1;32m    116\u001b[0m                                     ugoal\u001b[39m=\u001b[39;49mu, \n\u001b[1;32m    117\u001b[0m                                     mutation_noise\u001b[39m=\u001b[39;49m\u001b[39m0.63\u001b[39;49m)\n\u001b[1;32m    118\u001b[0m     end \u001b[39m=\u001b[39m time\u001b[39m.\u001b[39mtime()\n\u001b[1;32m    120\u001b[0m     x \u001b[39m=\u001b[39m ground_truth\u001b[39m.\u001b[39mforward_simulate_dt(x, u, dt) \u001b[39m# take the input and apply it to the analytical system\u001b[39;00m\n",
      "File \u001b[0;32m~/research/catkin_ws/src/nempc/src/nonlinear_empc/NonlinearEMPC.py:458\u001b[0m, in \u001b[0;36mNonlinearEMPC.solve_for_next_u\u001b[0;34m(self, x0, xgoal, ulast, ugoal, mutation_noise)\u001b[0m\n\u001b[1;32m    455\u001b[0m     U_parents \u001b[39m=\u001b[39m \u001b[39mself\u001b[39m\u001b[39m.\u001b[39mselect_parents(\u001b[39mself\u001b[39m\u001b[39m.\u001b[39mU, \u001b[39mself\u001b[39m\u001b[39m.\u001b[39mcosts)\n\u001b[1;32m    456\u001b[0m     \u001b[39mself\u001b[39m\u001b[39m.\u001b[39mU \u001b[39m=\u001b[39m \u001b[39mself\u001b[39m\u001b[39m.\u001b[39mmate_and_mutate_parents(U_parents, mutation_noise)\n\u001b[0;32m--> 458\u001b[0m \u001b[39mself\u001b[39m\u001b[39m.\u001b[39mcosts \u001b[39m=\u001b[39m \u001b[39mself\u001b[39;49m\u001b[39m.\u001b[39;49mget_costs_from_trajectories(\n\u001b[1;32m    459\u001b[0m     x0, xgoal, ugoal, \u001b[39mself\u001b[39;49m\u001b[39m.\u001b[39;49mU, uprev\u001b[39m=\u001b[39;49mulast\n\u001b[1;32m    460\u001b[0m )\n\u001b[1;32m    461\u001b[0m next_u \u001b[39m=\u001b[39m \u001b[39mself\u001b[39m\u001b[39m.\u001b[39mget_next_u_from_U(\u001b[39mself\u001b[39m\u001b[39m.\u001b[39mU)\n\u001b[1;32m    463\u001b[0m \u001b[39mreturn\u001b[39;00m next_u\u001b[39m.\u001b[39mreshape(\u001b[39mself\u001b[39m\u001b[39m.\u001b[39mnumInputs, \u001b[39m-\u001b[39m\u001b[39m1\u001b[39m)\n",
      "File \u001b[0;32m~/research/catkin_ws/src/nempc/src/nonlinear_empc/NonlinearEMPC.py:348\u001b[0m, in \u001b[0;36mNonlinearEMPC.get_costs_from_trajectories\u001b[0;34m(self, x0, xgoal, ugoal, U, uprev)\u001b[0m\n\u001b[1;32m    344\u001b[0m             costs \u001b[39m+\u001b[39m\u001b[39m=\u001b[39m \u001b[39mself\u001b[39m\u001b[39m.\u001b[39mcost_function(\n\u001b[1;32m    345\u001b[0m                 X_c[i, :, :], U_c[i, :, :], xgoal_c, ugoal_c, prev_u\u001b[39m=\u001b[39muprev\n\u001b[1;32m    346\u001b[0m             )\n\u001b[1;32m    347\u001b[0m         \u001b[39melse\u001b[39;00m:\n\u001b[0;32m--> 348\u001b[0m             costs \u001b[39m+\u001b[39m\u001b[39m=\u001b[39m \u001b[39mself\u001b[39;49m\u001b[39m.\u001b[39;49mcost_function(\n\u001b[1;32m    349\u001b[0m                 X_c[i, :, :],\n\u001b[1;32m    350\u001b[0m                 U_c[i, :, :],\n\u001b[1;32m    351\u001b[0m                 xgoal_c,\n\u001b[1;32m    352\u001b[0m                 ugoal_c,\n\u001b[1;32m    353\u001b[0m                 prev_u\u001b[39m=\u001b[39;49mU_c[i \u001b[39m-\u001b[39;49m \u001b[39m1\u001b[39;49m, :, :],\n\u001b[1;32m    354\u001b[0m             )\n\u001b[1;32m    355\u001b[0m     costs \u001b[39m+\u001b[39m\u001b[39m=\u001b[39m \u001b[39mself\u001b[39m\u001b[39m.\u001b[39mcost_function(\n\u001b[1;32m    356\u001b[0m         X_c[\u001b[39mself\u001b[39m\u001b[39m.\u001b[39mhorizon \u001b[39m-\u001b[39m \u001b[39m1\u001b[39m, :, :],\n\u001b[1;32m    357\u001b[0m         U_c[\u001b[39m-\u001b[39m\u001b[39m1\u001b[39m, :, :],\n\u001b[0;32m   (...)\u001b[0m\n\u001b[1;32m    361\u001b[0m         final_timestep\u001b[39m=\u001b[39m\u001b[39mTrue\u001b[39;00m,\n\u001b[1;32m    362\u001b[0m     )\n\u001b[1;32m    363\u001b[0m \u001b[39melse\u001b[39;00m:\n",
      "File \u001b[0;32m~/research/catkin_ws/src/hyperparam_optimization/bellows_grub/grub_nempc.py:66\u001b[0m, in \u001b[0;36mgrub_nempc.<locals>.CostFunc\u001b[0;34m(x, u, xgoal, ugoal, prev_u, final_timestep)\u001b[0m\n\u001b[1;32m     64\u001b[0m     cost \u001b[39m=\u001b[39m torch\u001b[39m.\u001b[39msum(Qx,axis\u001b[39m=\u001b[39m\u001b[39m0\u001b[39m)\n\u001b[1;32m     65\u001b[0m \u001b[39melse\u001b[39;00m:\n\u001b[0;32m---> 66\u001b[0m     Qx \u001b[39m=\u001b[39m torch\u001b[39m.\u001b[39;49mmm(Q,(x\u001b[39m-\u001b[39;49mxgoal)\u001b[39m*\u001b[39;49m\u001b[39m*\u001b[39;49m\u001b[39m2.0\u001b[39;49m)\n\u001b[1;32m     67\u001b[0m     Ru \u001b[39m=\u001b[39m torch\u001b[39m.\u001b[39mmm(R,(u\u001b[39m-\u001b[39mugoal))\n\u001b[1;32m     68\u001b[0m     cost \u001b[39m=\u001b[39m torch\u001b[39m.\u001b[39msum(Qx,axis\u001b[39m=\u001b[39m\u001b[39m0\u001b[39m) \u001b[39m+\u001b[39m torch\u001b[39m.\u001b[39msum(Ru,axis\u001b[39m=\u001b[39m\u001b[39m0\u001b[39m)\n",
      "\u001b[0;31mKeyboardInterrupt\u001b[0m: "
     ]
    }
   ],
   "source": [
    "trial_names = []\n",
    "INPUT_DIR = '/home/daniel/research/catkin_ws/src/hyperparam_optimization/bellows_grub/run_logs/'\n",
    "\n",
    "# run_logs = os.listdir(INPUT_DIR)\n",
    "run_logs = ['fnn_testrun']\n",
    "\n",
    "for run in run_logs:\n",
    "    for trial in os.listdir(INPUT_DIR+run):\n",
    "        if os.path.isdir(INPUT_DIR + run + '/' + trial):\n",
    "            trial_dir = INPUT_DIR + run + '/' + trial\n",
    "            trial_name = trial[:14]\n",
    "\n",
    "            checkpoint_path = glob.glob(trial_dir + '/lightning_logs/version_0/checkpoints/*.ckpt')[0] # get the checkpoint\n",
    "\n",
    "            with open(trial_dir + '/params.json', 'r') as f:\n",
    "                config = json.load(f) # get the config file\n",
    "\n",
    "            print(f'\\n\\nRunning Control for Trial: {trial_name}')\n",
    "\n",
    "            # Try the controller with the model============\n",
    "            test_runs = 50\n",
    "            control_results = np.zeros([test_runs,])\n",
    "            iae_results = np.zeros([test_runs,])\n",
    "\n",
    "            p0 = np.array([[200],[200],[200],[200]])\n",
    "            qd0 = np.zeros((2,1))\n",
    "            q0 = .1*np.ones((2,1)) #np.random.uniform(low=-np.pi/2, high=np.pi/2, size=(2, 1)) # random joint angle starting location\n",
    "            x0 = np.vstack([p0,qd0,q0])\n",
    "            u0 = 200*np.ones([4, 1])\n",
    "\n",
    "            p_goal = np.array([[0], [0], [0], [0]])\n",
    "            qd_goal = np.zeros((2,1))\n",
    "            ugoal = np.zeros([4, 1]) # right now in the cost function this is weighted at 0\n",
    "\n",
    "            for test in tqdm(range(test_runs)):\n",
    "                q_goal = np.random.uniform(low=-np.pi/2, high=np.pi/2, size=(2, 1)) # random joint angle goal\n",
    "                xgoal = np.vstack([p_goal,qd_goal,q_goal])\n",
    "                x, iae_score, control_successful = grub_nempc(checkpoint_path, config, x0, u0, xgoal, ugoal, visualize=False, plot=False)\n",
    "                control_results[test] = control_successful\n",
    "                iae_results[test] = iae_score\n",
    "                # print(f'u=({q_goal[0]},{x[6]}) and v=({q_goal[1]},{x[7]})')\n",
    "            # Try the controller with the model ==============================\n",
    "            \n",
    "            trial_names.append(trial_name+'/'+run)\n",
    "            if np.mean(control_results) >= 0.5:\n",
    "                print(f'Ran control successfully for trial: {trial_name}. Control Results: {np.mean(control_results)}, Average IAE={np.mean(iae_results)}')\n",
    "            else:\n",
    "                print(f'Control failed for trial: {trial_name}. Control Results: {np.mean(control_results)}, Average IAE={np.mean(iae_results)}')"
   ]
  }
 ],
 "metadata": {
  "kernelspec": {
   "display_name": "Python 3",
   "language": "python",
   "name": "python3"
  },
  "language_info": {
   "codemirror_mode": {
    "name": "ipython",
    "version": 3
   },
   "file_extension": ".py",
   "mimetype": "text/x-python",
   "name": "python",
   "nbconvert_exporter": "python",
   "pygments_lexer": "ipython3",
   "version": "3.8.10"
  },
  "orig_nbformat": 4
 },
 "nbformat": 4,
 "nbformat_minor": 2
}
