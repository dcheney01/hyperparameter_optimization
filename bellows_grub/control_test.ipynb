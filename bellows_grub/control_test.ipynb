{
 "cells": [
  {
   "cell_type": "code",
   "execution_count": 1,
   "metadata": {},
   "outputs": [],
   "source": [
    "import json\n",
    "import glob\n",
    "import sys, os, shutil\n",
    "import numpy as np\n",
    "from tqdm.auto import tqdm \n",
    "\n",
    "sys.path.append('/home/daniel/research/catkin_ws/src/')\n",
    "from grub_nempc import run_grub_nempc, nempc_setup"
   ]
  },
  {
   "cell_type": "code",
   "execution_count": 2,
   "metadata": {},
   "outputs": [],
   "source": [
    "#### SETUP ############\n",
    "# Test Parameters\n",
    "test_runs = 100\n",
    "\n",
    "# Initial Conditions\n",
    "p0 = np.array([[200],\n",
    "                [200],\n",
    "                [200],\n",
    "                [200]])\n",
    "qd0 = np.zeros((2,1))\n",
    "q0 = np.random.uniform(low=-np.pi/2, high=np.pi/2, size=(test_runs, 2)) # random joint angle goal\n",
    "p_goal = np.array([[0], [0], [0], [0]])\n",
    "qd_goal = np.zeros((2,1))\n",
    "ugoal = np.zeros([4, 1]) # right now in the cost function this is weighted at 0\n",
    "q_goal = np.random.uniform(low=-np.pi/2, high=np.pi/2, size=(test_runs, 2)) # random joint angle goal"
   ]
  },
  {
   "cell_type": "code",
   "execution_count": 3,
   "metadata": {},
   "outputs": [
    {
     "name": "stdout",
     "output_type": "stream",
     "text": [
      "\n",
      "\n",
      "Running Control for Trial: train_e8d1e215\n"
     ]
    },
    {
     "data": {
      "application/vnd.jupyter.widget-view+json": {
       "model_id": "bd4e814c5b6a495295e5a6cd2380f328",
       "version_major": 2,
       "version_minor": 0
      },
      "text/plain": [
       "  0%|          | 0/100 [00:00<?, ?it/s]"
      ]
     },
     "metadata": {},
     "output_type": "display_data"
    },
    {
     "name": "stdout",
     "output_type": "stream",
     "text": [
      "Ran control successfully for trial: train_e8d1e215. Control Results: 0.55, Average IAE=286.4445821904852\n",
      "\n",
      "\n",
      "Running Control for Trial: train_0db45b06\n"
     ]
    },
    {
     "data": {
      "application/vnd.jupyter.widget-view+json": {
       "model_id": "73e9822057d2440bb3dbc0d4dd55e2fe",
       "version_major": 2,
       "version_minor": 0
      },
      "text/plain": [
       "  0%|          | 0/100 [00:00<?, ?it/s]"
      ]
     },
     "metadata": {},
     "output_type": "display_data"
    },
    {
     "name": "stdout",
     "output_type": "stream",
     "text": [
      "Ran control successfully for trial: train_0db45b06. Control Results: 0.61, Average IAE=273.4296128426911\n",
      "\n",
      "\n",
      "Running Control for Trial: train_849897e4\n"
     ]
    },
    {
     "data": {
      "application/vnd.jupyter.widget-view+json": {
       "model_id": "fff556922ac742a58661320000aa1e40",
       "version_major": 2,
       "version_minor": 0
      },
      "text/plain": [
       "  0%|          | 0/100 [00:00<?, ?it/s]"
      ]
     },
     "metadata": {},
     "output_type": "display_data"
    },
    {
     "name": "stdout",
     "output_type": "stream",
     "text": [
      "Ran control successfully for trial: train_849897e4. Control Results: 0.7, Average IAE=276.5833295528642\n",
      "\n",
      "\n",
      "Running Control for Trial: train_2d09ba12\n"
     ]
    },
    {
     "data": {
      "application/vnd.jupyter.widget-view+json": {
       "model_id": "ab779529071340eab44bb6966c94ff6d",
       "version_major": 2,
       "version_minor": 0
      },
      "text/plain": [
       "  0%|          | 0/100 [00:00<?, ?it/s]"
      ]
     },
     "metadata": {},
     "output_type": "display_data"
    },
    {
     "name": "stdout",
     "output_type": "stream",
     "text": [
      "Ran control successfully for trial: train_2d09ba12. Control Results: 0.61, Average IAE=283.0056482074526\n",
      "\n",
      "\n",
      "Running Control for Trial: train_e0b021ce\n"
     ]
    },
    {
     "data": {
      "application/vnd.jupyter.widget-view+json": {
       "model_id": "d5a2e51759b146068aad33d61a32acf1",
       "version_major": 2,
       "version_minor": 0
      },
      "text/plain": [
       "  0%|          | 0/100 [00:00<?, ?it/s]"
      ]
     },
     "metadata": {},
     "output_type": "display_data"
    },
    {
     "name": "stdout",
     "output_type": "stream",
     "text": [
      "Ran control successfully for trial: train_e0b021ce. Control Results: 0.55, Average IAE=277.3226336895666\n",
      "\n",
      "\n",
      "Running Control for Trial: train_595eaec2\n"
     ]
    },
    {
     "data": {
      "application/vnd.jupyter.widget-view+json": {
       "model_id": "5612f36636a0493c9649ba451aad7436",
       "version_major": 2,
       "version_minor": 0
      },
      "text/plain": [
       "  0%|          | 0/100 [00:00<?, ?it/s]"
      ]
     },
     "metadata": {},
     "output_type": "display_data"
    },
    {
     "name": "stdout",
     "output_type": "stream",
     "text": [
      "Ran control successfully for trial: train_595eaec2. Control Results: 0.74, Average IAE=273.85194601962297\n",
      "\n",
      "\n",
      "Running Control for Trial: train_a10c35ce\n"
     ]
    },
    {
     "data": {
      "application/vnd.jupyter.widget-view+json": {
       "model_id": "bfec5dc3d5874353b744aeaa9863f897",
       "version_major": 2,
       "version_minor": 0
      },
      "text/plain": [
       "  0%|          | 0/100 [00:00<?, ?it/s]"
      ]
     },
     "metadata": {},
     "output_type": "display_data"
    },
    {
     "name": "stdout",
     "output_type": "stream",
     "text": [
      "Ran control successfully for trial: train_a10c35ce. Control Results: 0.56, Average IAE=282.0603933928994\n",
      "\n",
      "\n",
      "Running Control for Trial: train_11940ae4\n"
     ]
    },
    {
     "data": {
      "application/vnd.jupyter.widget-view+json": {
       "model_id": "6162298badde408bb955a800812c1339",
       "version_major": 2,
       "version_minor": 0
      },
      "text/plain": [
       "  0%|          | 0/100 [00:00<?, ?it/s]"
      ]
     },
     "metadata": {},
     "output_type": "display_data"
    }
   ],
   "source": [
    "iae_metrics = []\n",
    "trial_names = []\n",
    "control_successes = []\n",
    "INPUT_DIR = '/home/daniel/research/catkin_ws/src/hyperparam_optimization/bellows_grub/run_logs/'\n",
    "\n",
    "run_logs = os.listdir(INPUT_DIR)\n",
    "\n",
    "# Try the controller with the model============\n",
    "control_results = np.zeros([test_runs,])\n",
    "iae_results = np.zeros([test_runs,])\n",
    "\n",
    "\n",
    "for run in run_logs:\n",
    "    for trial in os.listdir(INPUT_DIR+run):\n",
    "        if os.path.isdir(INPUT_DIR + run + '/' + trial):\n",
    "            trial_dir = INPUT_DIR + run + '/' + trial\n",
    "            trial_name = trial[:14]\n",
    "\n",
    "            try:\n",
    "                controller, ground_truth, _, u0, _, sim_length = nempc_setup(trial_dir=trial_dir)\n",
    "                curr_control_success = []\n",
    "                print(f'\\n\\nRunning Control for Trial: {trial_name}')\n",
    "\n",
    "                for test in tqdm(range(test_runs)):\n",
    "                    xgoal = np.vstack([p_goal,qd_goal,q_goal[test].reshape(2,1)])\n",
    "                    x0 = np.vstack([p0,qd0,q0[test].reshape(2,1)])\n",
    "                    x, iae_score, control_successful = run_grub_nempc(controller, ground_truth, x0, u0, xgoal, sim_length)\n",
    "                    curr_control_success.append(control_successful)\n",
    "                    control_results[test] = control_successful\n",
    "                    iae_results[test] = iae_score\n",
    "                \n",
    "                iae_metrics.append(np.mean(iae_results))\n",
    "                trial_names.append(trial_name+'/'+run)\n",
    "                if np.mean(control_results) > 0.5:\n",
    "                    print(f'Ran control successfully for trial: {trial_name}. Control Results: {np.mean(control_results)}, Average IAE={np.mean(iae_results)}')\n",
    "                else:\n",
    "                    print(f'Control failed for trial: {trial_name}. Control Results: {np.mean(control_results)}, Average IAE={np.mean(iae_results)}')\n",
    "                    raise ValueError\n",
    "\n",
    "            except Exception as e:\n",
    "                print(f'For trial {trial_name} got {e}')\n",
    "                # shutil.rmtree(trial_dir)\n",
    "                continue # no checkpoint, wasn't a good run\n",
    "\n",
    "min_index = iae_metrics.index(min(iae_metrics))\n",
    "print()\n",
    "print(f'Best Trial: {trial_names[min_index]}, with IAE={iae_metrics[min_index]}')\n",
    "print(f'Total Trials ran: {len(iae_metrics)}')"
   ]
  }
 ],
 "metadata": {
  "kernelspec": {
   "display_name": "Python 3",
   "language": "python",
   "name": "python3"
  },
  "language_info": {
   "codemirror_mode": {
    "name": "ipython",
    "version": 3
   },
   "file_extension": ".py",
   "mimetype": "text/x-python",
   "name": "python",
   "nbconvert_exporter": "python",
   "pygments_lexer": "ipython3",
   "version": "3.8.10"
  },
  "orig_nbformat": 4
 },
 "nbformat": 4,
 "nbformat_minor": 2
}
